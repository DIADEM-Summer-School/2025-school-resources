{
  "nbformat": 4,
  "nbformat_minor": 0,
  "metadata": {
    "colab": {
      "provenance": []
    },
    "kernelspec": {
      "name": "python3",
      "display_name": "Python 3"
    },
    "language_info": {
      "name": "python"
    }
  },
  "cells": [
    {
      "cell_type": "markdown",
      "source": [
        "#Introduction\n",
        "\n",
        "AiiDA is a workflow manager used mostly for computational material science application.  The goal of this excercise is to convert a simple python function used in material science context using ASE to a AiiDA workflow.\n",
        "\n"
      ],
      "metadata": {
        "id": "jjCpfG4LEu-k"
      }
    },
    {
      "cell_type": "markdown",
      "source": [
        "## Prerequisites"
      ],
      "metadata": {
        "id": "JRB3fu1o-kyU"
      }
    },
    {
      "cell_type": "code",
      "source": [
        "pip install aiida"
      ],
      "metadata": {
        "id": "n_SozZdh-wYL"
      },
      "execution_count": null,
      "outputs": []
    },
    {
      "cell_type": "code",
      "source": [
        "pip install ase"
      ],
      "metadata": {
        "id": "l-scAwNj-4ih"
      },
      "execution_count": null,
      "outputs": []
    },
    {
      "cell_type": "code",
      "source": [
        "!verdi presto"
      ],
      "metadata": {
        "id": "b8opE2l4_N7o"
      },
      "execution_count": null,
      "outputs": []
    },
    {
      "cell_type": "code",
      "source": [
        "from aiida import load_profile, engine, orm, plugins\n",
        "\n",
        "%load_ext aiida\n",
        "load_profile()"
      ],
      "metadata": {
        "id": "xZYzEN0s_Wfj"
      },
      "execution_count": null,
      "outputs": []
    },
    {
      "cell_type": "markdown",
      "source": [
        "# Task\n",
        "\n",
        "Consider the following function  that takes an ASE `Atoms` structure and rescales the unit cell with a certain scale factor:"
      ],
      "metadata": {
        "id": "TxOmpHIn_e8E"
      }
    },
    {
      "cell_type": "code",
      "source": [
        "from ase.io import read\n",
        "from ase.visualize import view\n",
        "\n",
        "def rescale(structure, scale):\n",
        "\n",
        "    new_cell = structure.get_cell() * scale\n",
        "    structure.set_cell(new_cell, scale_atoms=True)\n",
        "\n",
        "    return structure"
      ],
      "metadata": {
        "id": "VJqA2oSfCMPS"
      },
      "execution_count": null,
      "outputs": []
    },
    {
      "cell_type": "code",
      "source": [
        "config= read('Si.cif')"
      ],
      "metadata": {
        "id": "LrSKTijW_kx6"
      },
      "execution_count": null,
      "outputs": []
    },
    {
      "cell_type": "code",
      "source": [
        "config"
      ],
      "metadata": {
        "id": "uJfXcGuEC00I"
      },
      "execution_count": null,
      "outputs": []
    },
    {
      "cell_type": "code",
      "source": [
        "rescaled_config = rescale(config,3.0)"
      ],
      "metadata": {
        "id": "0KFtJK23DjqZ"
      },
      "execution_count": null,
      "outputs": []
    },
    {
      "cell_type": "markdown",
      "source": [
        "Great! That all seems to be working as expected. Now it’s time to convert the Python function into a  **AiiDA calculation function.**"
      ],
      "metadata": {
        "id": "LY-gTg1QGAOv"
      }
    },
    {
      "cell_type": "markdown",
      "source": [
        "# Complete the  AiiDA workflow for rescale function"
      ],
      "metadata": {
        "id": "w-5-7QSqGpmc"
      }
    },
    {
      "cell_type": "markdown",
      "source": [
        "Try to adapt the **rescale function** above into a calculation function by adding a calcfunction decorator.\n",
        "\n",
        "**Hint:**\n",
        "- ASE data types are not directly compatible with AiiDA. Check for way to convert ASE atoms to [StructureData](https://aiida.readthedocs.io/projects/aiida-core/en/stable/topics/data_types.html#topics-data-types-materials-structure) format supported by AiiDA\n",
        "-You must not modify inputs in a calcfunction (inputs are immutable).\n",
        "\n"
      ],
      "metadata": {
        "id": "oVYOZD6rGS37"
      }
    },
    {
      "cell_type": "code",
      "source": [
        "from aiida.engine import calcfunction,run\n",
        "from aiida.orm import StructureData,Float\n",
        "\n",
        "\n",
        "#Remember to use the calcfunction decorator\n",
        "\n",
        "def rescale(structure: orm.StructureData, scale: orm.Float):\n",
        "  pass\n",
        "\n",
        "# when you return the structure data make sure its a new Structure data node.\n",
        "\n"
      ],
      "metadata": {
        "id": "IhwW5FrPD6Li"
      },
      "execution_count": null,
      "outputs": []
    },
    {
      "cell_type": "markdown",
      "source": [
        "# Further reading\n",
        "\n",
        "If you have reached here, congragulations, you have succesfully completed the basic tutorials.\n",
        "\n",
        "To challenge yourself with running actual DFT codes with AiiDA please refer to following pages:\n",
        "\n",
        "AiiDA_with_quantum_espresso\n",
        "\n",
        "https://aiida-tutorials.readthedocs.io/en/latest/sections/running_processes/basics.html\n",
        "\n",
        "\n",
        "Advanced way to do workflows with AiiDA:\n",
        "\n",
        "https://aiida-workgraph.readthedocs.io/en/latest/"
      ],
      "metadata": {
        "id": "ufMud4cYvbLQ"
      }
    },
    {
      "cell_type": "code",
      "source": [],
      "metadata": {
        "id": "j-YrMFYTwmf7"
      },
      "execution_count": null,
      "outputs": []
    }
  ]
}